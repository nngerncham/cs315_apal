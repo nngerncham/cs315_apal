{
 "cells": [
  {
   "cell_type": "code",
   "execution_count": 1,
   "id": "552c0fd9",
   "metadata": {},
   "outputs": [],
   "source": [
    "from scipy.optimize import linprog\n",
    "import numpy as np"
   ]
  },
  {
   "cell_type": "markdown",
   "id": "8a4145e8",
   "metadata": {},
   "source": [
    "# Solving the Primal Problem\n",
    "\n",
    "\\begin{equation*}\n",
    "    \\begin{aligned}\n",
    "        \\max\\quad &7x_1 - x_2 + 5x_3 && \\\\\n",
    "        s.t.\\quad\n",
    "            & x_1 + x_2 + x_3 &\\leq &\\ 8 \\\\\n",
    "            & 3x_1 - x_2 + 2x_3 &\\leq &\\ 3 \\\\\n",
    "            & 2x_1 + 5x_2 - x_3 &\\leq &\\ 7 \\\\\n",
    "            & x_1, x_2, x_3 &\\geq &\\ 0\n",
    "    \\end{aligned}\n",
    "\\end{equation*}"
   ]
  },
  {
   "cell_type": "code",
   "execution_count": 2,
   "id": "37844780",
   "metadata": {},
   "outputs": [],
   "source": [
    "p_f0 = np.array([7, -1, 5])\n",
    "p_leqA = np.array([\n",
    "    [1, 1, 1],\n",
    "    [3, -1, 2],\n",
    "    [2, 5, -1],\n",
    "])\n",
    "p_leqb = np.array([8, 3, 7])\n",
    "p_bounds = np.array([\n",
    "    (0, None), \n",
    "    (0, None), \n",
    "    (0, None),\n",
    "])"
   ]
  },
  {
   "cell_type": "code",
   "execution_count": 3,
   "id": "933d206c",
   "metadata": {},
   "outputs": [
    {
     "data": {
      "text/plain": [
       "        message: Optimization terminated successfully. (HiGHS Status 7: Optimal)\n",
       "        success: True\n",
       "         status: 0\n",
       "            fun: -10.333333333333334\n",
       "              x: [ 0.000e+00  1.889e+00  2.444e+00]\n",
       "            nit: 2\n",
       "          lower:  residual: [ 0.000e+00  1.889e+00  2.444e+00]\n",
       "                 marginals: [ 1.667e+00  0.000e+00  0.000e+00]\n",
       "          upper:  residual: [       inf        inf        inf]\n",
       "                 marginals: [ 0.000e+00  0.000e+00  0.000e+00]\n",
       "          eqlin:  residual: []\n",
       "                 marginals: []\n",
       "        ineqlin:  residual: [ 3.667e+00  0.000e+00  0.000e+00]\n",
       "                 marginals: [-0.000e+00 -2.667e+00 -3.333e-01]\n",
       " mip_node_count: 0\n",
       " mip_dual_bound: 0.0\n",
       "        mip_gap: 0.0"
      ]
     },
     "execution_count": 3,
     "metadata": {},
     "output_type": "execute_result"
    }
   ],
   "source": [
    "p_res = linprog(c=-p_f0, A_ub=p_leqA, b_ub=p_leqb, bounds=p_bounds)\n",
    "p_res"
   ]
  },
  {
   "cell_type": "code",
   "execution_count": 4,
   "id": "8aaa19ea",
   "metadata": {},
   "outputs": [
    {
     "data": {
      "text/plain": [
       "array([0.        , 1.88888889, 2.44444444])"
      ]
     },
     "execution_count": 4,
     "metadata": {},
     "output_type": "execute_result"
    }
   ],
   "source": [
    "p_res.x"
   ]
  },
  {
   "cell_type": "markdown",
   "id": "5a094d30",
   "metadata": {},
   "source": [
    "# Solving the Dual Problem\n",
    "\n",
    "\\begin{equation*}\n",
    "\\begin{aligned}\n",
    "    \\min\\quad & 8y_1 + 3y_2 + 7y_3 & & \\\\\n",
    "    s.t.\\quad\n",
    "        & y_1 + 3y_2 + 2y_3 & \\geq &\\ 7 \\\\\n",
    "        & y_1 + -y_2 + 5y_3 & \\geq &\\ -1 \\\\\n",
    "        & y_1 + 2y_2 - y_3 & \\geq &\\ 5 \\\\\n",
    "        & y_1, y_2, y_3 & \\geq &\\ 0\n",
    "\\end{aligned}\n",
    "\\end{equation*}"
   ]
  },
  {
   "cell_type": "code",
   "execution_count": 5,
   "id": "921eac8b",
   "metadata": {},
   "outputs": [],
   "source": [
    "d_f0 = p_leqb\n",
    "d_leqA = p_leqA.T\n",
    "d_leqb = p_f0\n",
    "d_bounds = np.array([\n",
    "    (0, None),\n",
    "    (0, None),\n",
    "    (0, None),\n",
    "])"
   ]
  },
  {
   "cell_type": "code",
   "execution_count": 6,
   "id": "79b9b83b",
   "metadata": {},
   "outputs": [
    {
     "data": {
      "text/plain": [
       "        message: Optimization terminated successfully. (HiGHS Status 7: Optimal)\n",
       "        success: True\n",
       "         status: 0\n",
       "            fun: 10.333333333333332\n",
       "              x: [ 0.000e+00  2.667e+00  3.333e-01]\n",
       "            nit: 3\n",
       "          lower:  residual: [ 0.000e+00  2.667e+00  3.333e-01]\n",
       "                 marginals: [ 3.667e+00  0.000e+00  0.000e+00]\n",
       "          upper:  residual: [       inf        inf        inf]\n",
       "                 marginals: [ 0.000e+00  0.000e+00  0.000e+00]\n",
       "          eqlin:  residual: []\n",
       "                 marginals: []\n",
       "        ineqlin:  residual: [ 1.667e+00  0.000e+00  0.000e+00]\n",
       "                 marginals: [-0.000e+00 -1.889e+00 -2.444e+00]\n",
       " mip_node_count: 0\n",
       " mip_dual_bound: 0.0\n",
       "        mip_gap: 0.0"
      ]
     },
     "execution_count": 6,
     "metadata": {},
     "output_type": "execute_result"
    }
   ],
   "source": [
    "d_res = linprog(c=d_f0, A_ub=-d_leqA, b_ub=-d_leqb, bounds=d_bounds)\n",
    "d_res"
   ]
  },
  {
   "cell_type": "code",
   "execution_count": 7,
   "id": "bcbc7c9c",
   "metadata": {},
   "outputs": [
    {
     "data": {
      "text/plain": [
       "array([0.        , 2.66666667, 0.33333333])"
      ]
     },
     "execution_count": 7,
     "metadata": {},
     "output_type": "execute_result"
    }
   ],
   "source": [
    "d_res.x"
   ]
  }
 ],
 "metadata": {
  "kernelspec": {
   "display_name": "Python 3 (ipykernel)",
   "language": "python",
   "name": "python3"
  },
  "language_info": {
   "codemirror_mode": {
    "name": "ipython",
    "version": 3
   },
   "file_extension": ".py",
   "mimetype": "text/x-python",
   "name": "python",
   "nbconvert_exporter": "python",
   "pygments_lexer": "ipython3",
   "version": "3.10.9"
  }
 },
 "nbformat": 4,
 "nbformat_minor": 5
}
