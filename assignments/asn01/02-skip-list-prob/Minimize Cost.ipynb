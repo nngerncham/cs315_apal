{
 "cells": [
  {
   "cell_type": "code",
   "execution_count": 19,
   "metadata": {},
   "outputs": [],
   "source": [
    "from scipy.optimize import minimize, fsolve\n",
    "import numpy as np\n",
    "from math import log\n",
    "import matplotlib.pyplot as plt\n",
    "\n",
    "N = 1_000_000"
   ]
  },
  {
   "attachments": {},
   "cell_type": "markdown",
   "metadata": {},
   "source": [
    "# Search Cost on $p$-biased Coin\n",
    "\n",
    "First, represent the expected number of go right moves by the following.\n",
    "$$ \\mathbb{E}[\\text{walk per level}] = \\frac{1}{1/p} $$\n",
    "\n",
    "Then, bound the height of the skip list WHP as the following. This is done mostly for convenience sake.\n",
    "$$ c\\log_p n $$\n",
    "\n",
    "Thus, the search cost can be modeled as the following.\n",
    "$$ \\mathbb{E}[\\text{walk per level}] \\cdot \\log_p n = p \\cdot c\\log_p n $$\n",
    "where $c$ is a constant.\n",
    "\n",
    "We can now use Python to minimize this cost."
   ]
  },
  {
   "cell_type": "code",
   "execution_count": 20,
   "metadata": {},
   "outputs": [
    {
     "data": {
      "text/plain": [
       "[<matplotlib.lines.Line2D at 0x7f9ac1d177f0>]"
      ]
     },
     "execution_count": 20,
     "metadata": {},
     "output_type": "execute_result"
    },
    {
     "data": {
      "image/png": "[encoded data removed]",
      "text/plain": [
       "<Figure size 640x480 with 1 Axes>"
      ]
     },
     "metadata": {},
     "output_type": "display_data"
    }
   ],
   "source": [
    "def log_b(x):\n",
    "    return log(N, x)\n",
    "\n",
    "xs = np.linspace(1.1, 10, 100)\n",
    "ys = [x * log_b(x) for x in xs]\n",
    "\n",
    "plt.plot(xs, ys)"
   ]
  },
  {
   "attachments": {},
   "cell_type": "markdown",
   "metadata": {},
   "source": [
    "Notice how the minimum is roughly at just above 2."
   ]
  },
  {
   "cell_type": "code",
   "execution_count": 21,
   "metadata": {},
   "outputs": [
    {
     "data": {
      "text/plain": [
       "      fun: 37.55445130059837\n",
       " hess_inv: array([[0.19684136]])\n",
       "      jac: array([0.])\n",
       "  message: 'Optimization terminated successfully.'\n",
       "     nfev: 16\n",
       "      nit: 7\n",
       "     njev: 8\n",
       "   status: 0\n",
       "  success: True\n",
       "        x: array([2.71828185])"
      ]
     },
     "execution_count": 21,
     "metadata": {},
     "output_type": "execute_result"
    }
   ],
   "source": [
    "def cost(x):\n",
    "    return x * log(N, x)\n",
    "\n",
    "minimize(cost, [2])"
   ]
  },
  {
   "attachments": {},
   "cell_type": "markdown",
   "metadata": {},
   "source": [
    "From the minimization, we can see that the optimal $p$ is approximately $2.72$ which is also approximately $e$."
   ]
  }
 ],
 "metadata": {
  "kernelspec": {
   "display_name": "base",
   "language": "python",
   "name": "python3"
  },
  "language_info": {
   "codemirror_mode": {
    "name": "ipython",
    "version": 3
   },
   "file_extension": ".py",
   "mimetype": "text/x-python",
   "name": "python",
   "nbconvert_exporter": "python",
   "pygments_lexer": "ipython3",
   "version": "3.9.15"
  },
  "orig_nbformat": 4,
  "vscode": {
   "interpreter": {
    "hash": "10a096c40ceba0caef59089d649ed46b82587135aa7de295f10f3d041669385d"
   }
  }
 },
 "nbformat": 4,
 "nbformat_minor": 2
}
